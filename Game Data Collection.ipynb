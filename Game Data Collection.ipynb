{
 "cells": [
  {
   "cell_type": "code",
   "execution_count": 1,
   "metadata": {},
   "outputs": [],
   "source": [
    "import pandas as pd\n",
    "import requests\n",
    "import numpy as np\n",
    "from bs4 import BeautifulSoup, Comment\n",
    "import re\n",
    "import time\n",
    "import pandasql as psql"
   ]
  },
  {
   "cell_type": "code",
   "execution_count": 2,
   "metadata": {},
   "outputs": [],
   "source": [
    "# functions\n",
    "def get_drive_table(team, soup):\n",
    "    if team == 'home':\n",
    "        ids = ['all_home_drives', 'home_drives']\n",
    "    if team == 'vis':\n",
    "        ids = ['all_vis_drives', 'vis_drives']\n",
    "    drive_data = []\n",
    "    parent = soup.find('div', {'id': ids[0]})\n",
    "    team = parent.find('h2').get_text(strip=False)\n",
    "    team = team.split()\n",
    "    team = team[0]\n",
    "    print(team)\n",
    "    if parent:\n",
    "        # print('found parent')\n",
    "        div = parent.find(string=lambda text: isinstance(text, Comment))\n",
    "        if div:\n",
    "            comment_soup = BeautifulSoup(str(div), 'html.parser')\n",
    "            table = comment_soup.find('table', {'id': ids[1]})\n",
    "            if table:\n",
    "                # print('found table')\n",
    "                cols = table.find('thead').find('tr')\n",
    "                column_headers = [th.get_text(strip=True) for th in cols.find_all('th')]\n",
    "                drives = table.find('tbody').find_all('tr')\n",
    "                for drive in drives:\n",
    "                    columns = drive.find_all(['th', 'td'])\n",
    "                    row_data = [column.get_text(strip=False) for column in columns]\n",
    "                    drive_data.append(row_data)\n",
    "    drives_df = pd.DataFrame(columns = column_headers, data = drive_data)\n",
    "    drives_df['team'] = team\n",
    "    return drives_df\n",
    "\n",
    "\n",
    "def scrape_pbp(game_page_soup):\n",
    "    pbp_datas = []\n",
    "    pbp_parent = game_page_soup.find('div', {'class': 'table_wrapper', 'id': 'all_pbp'})\n",
    "    if pbp_parent:\n",
    "        pbp_div = pbp_parent.find(string=lambda text: isinstance(text, Comment))\n",
    "        if pbp_div:\n",
    "            comment_soup = BeautifulSoup(str(pbp_div), 'html.parser')\n",
    "            pbp_table = comment_soup.find('table', {'id': 'pbp'})\n",
    "            if pbp_table:\n",
    "                cols = pbp_table.find('thead').find('tr')\n",
    "                column_headers = [th.get_text(strip=True) for th in cols.find_all('th')]\n",
    "                plays = pbp_table.find('tbody').find_all('tr',{'class': ''})\n",
    "                for play in plays:\n",
    "                    columns = play.find_all(['th', 'td'])\n",
    "                    play_data = [column.get_text(strip=False) for column in columns]\n",
    "                    pbp_datas.append(play_data)\n",
    "\n",
    "    pbp_datas = pd.DataFrame(columns = column_headers, data = pbp_datas)\n",
    "    return pbp_datas\n",
    "\n",
    "\n",
    "def elapsed_time(time_list):\n",
    "    time_list = time_list.tolist()\n",
    "    elapsed_times = []\n",
    "    length = len(time_list)\n",
    "    # print(length)\n",
    "    for i in range(0,length-1):\n",
    "        # print('in for loop')\n",
    "        # print(i)\n",
    "        time1 = time_list[i]\n",
    "        # print(time1)\n",
    "        time2 = time_list[i+1]\n",
    "        # print(time2)\n",
    "        # print(f'time1: {time1}, time2: {time2}')\n",
    "        if time1 > time2:\n",
    "            elapsed = time1 - time2\n",
    "            # print(elapsed)\n",
    "            elapsed_times.append(elapsed)\n",
    "        elif time1 == time2:\n",
    "            elapsed = 0\n",
    "            elapsed_times.append(elapsed)\n",
    "        else:\n",
    "            elapsed = (time1) + (15-time2)\n",
    "            # print(elapsed)\n",
    "            elapsed_times.append(elapsed)\n",
    "    elapsed_times.append(time_list[length-1])\n",
    "    return elapsed_times\n",
    "\n",
    "\n",
    "def game_time(elapsed_time):\n",
    "    elapsed_time = elapsed_time.tolist()\n",
    "    real_game_time = []\n",
    "    real_game_time.append(0)\n",
    "    print(real_game_time)\n",
    "    for i in range(0,len(elapsed_time)-1):\n",
    "        time = real_game_time[i] + elapsed_time[i]\n",
    "        real_game_time.append(time)\n",
    "    # real_game_time = real_game_time[1:len(real_game_time)]\n",
    "    return real_game_time"
   ]
  },
  {
   "cell_type": "code",
   "execution_count": 3,
   "metadata": {},
   "outputs": [
    {
     "name": "stdout",
     "output_type": "stream",
     "text": [
      "status: 200\n"
     ]
    }
   ],
   "source": [
    "# scraping 1 game\n",
    "pbp_data = []\n",
    "\n",
    "game_url = 'https://www.pro-football-reference.com/boxscores/202309070kan.htm'\n",
    "r = requests.get(game_url)\n",
    "print(f'status: {r.status_code}')\n",
    "\n",
    "game_page_soup = BeautifulSoup(r.text)"
   ]
  },
  {
   "cell_type": "code",
   "execution_count": 4,
   "metadata": {},
   "outputs": [
    {
     "name": "stdout",
     "output_type": "stream",
     "text": [
      "Chiefs\n",
      "Lions\n",
      "[0]\n"
     ]
    }
   ],
   "source": [
    "# scraping drive data for home and away team\n",
    "home_drives = get_drive_table('home', game_page_soup)\n",
    "vis_drives = get_drive_table('vis', game_page_soup)\n",
    "\n",
    "# getting home and away team variables\n",
    "home_team = home_drives['team'][0]\n",
    "vis_team = vis_drives['team'][0]\n",
    "\n",
    "drives = pd.concat([home_drives, vis_drives], axis=0)\n",
    "drives['Quarter'] = drives['Quarter'].astype(int)\n",
    "drives['minute'] = drives['Time'].str.extract(r'([0-9]+):').astype(int)\n",
    "drives['seconds'] = drives['Time'].str.extract(r'[0-9]+:([0-9]+)').astype(int)\n",
    "drives['seconds_ratio'] = (drives['seconds'] / 60).astype(float)\n",
    "drives['Numeric_time'] = drives['minute'] + drives['seconds_ratio']\n",
    "drives = drives.sort_values(by=['Quarter', 'Numeric_time'], ascending=[True, False]).reset_index()\n",
    "drives['drive_time'] = elapsed_time(drives['Numeric_time'])\n",
    "drives['drive_start_time'] = game_time(drives['drive_time'])\n",
    "drives = drives.drop(columns=['minute', 'seconds', 'seconds_ratio', 'index', '#', 'Numeric_time', 'drive_time'])"
   ]
  },
  {
   "cell_type": "code",
   "execution_count": 5,
   "metadata": {},
   "outputs": [
    {
     "name": "stdout",
     "output_type": "stream",
     "text": [
      "Chiefs vs. Lions \n",
      " total plays: 132\n"
     ]
    }
   ],
   "source": [
    "# scraping pbp data\n",
    "pbp_data = scrape_pbp(game_page_soup)\n",
    "\n",
    "# Setting up receiving and kicking teams\n",
    "coin_toss = pbp_data.iloc[0]\n",
    "pbp_data = pbp_data.drop(0)\n",
    "coin_toss = coin_toss[7]\n",
    "teams = re.findall(r'\\b[A-Z][a-zA-Z]*\\b', coin_toss)\n",
    "match = re.search(r\"(\\w+)\\s+to\\s+receive\\s+the\\s+opening\\s+kickoff\", coin_toss)\n",
    "if match:\n",
    "    receiving_team = match.group(1)\n",
    "\n",
    "# dropping timeouts\n",
    "pbp_data = pbp_data[pbp_data['Location'].str.strip() != '']\n",
    "pbp_data = pbp_data.dropna(subset=['Location'])\n",
    "\n",
    "print(f'{home_team} vs. {vis_team} \\n total plays: {len(pbp_data)}')"
   ]
  },
  {
   "cell_type": "code",
   "execution_count": 6,
   "metadata": {},
   "outputs": [
    {
     "name": "stdout",
     "output_type": "stream",
     "text": [
      "[0]\n"
     ]
    }
   ],
   "source": [
    "# General Cleaning\n",
    "pbp_data['Quarter'] = pbp_data['Quarter'].astype(int)\n",
    "pbp_data['field_side'] = pbp_data['Location'].str.extract(r'([A-Z]+)')\n",
    "pbp_data['yardline'] = pbp_data['Location'].str.extract(r'([0-9]+)')\n",
    "pbp_data['yardline'] = pbp_data['yardline'].astype(int)\n",
    "pbp_data['minute'] = pbp_data['Time'].str.extract(r'([0-9]+):').astype(int)\n",
    "pbp_data['seconds'] = pbp_data['Time'].str.extract(r'[0-9]+:([0-9]+)').astype(int)\n",
    "pbp_data['seconds_ratio'] = (pbp_data['seconds'] / 60).astype(float)\n",
    "pbp_data['Numeric_time'] = pbp_data['minute'] + pbp_data['seconds_ratio']\n",
    "pbp_data['play_time'] = elapsed_time(pbp_data['Numeric_time'])\n",
    "pbp_data['play_start_time'] = game_time(pbp_data['play_time'])\n",
    "pbp_data = pbp_data.drop(columns=['minute', 'seconds', 'seconds_ratio','Numeric_time', 'play_time'])"
   ]
  }
 ],
 "metadata": {
  "kernelspec": {
   "display_name": "stat386",
   "language": "python",
   "name": "python3"
  },
  "language_info": {
   "codemirror_mode": {
    "name": "ipython",
    "version": 3
   },
   "file_extension": ".py",
   "mimetype": "text/x-python",
   "name": "python",
   "nbconvert_exporter": "python",
   "pygments_lexer": "ipython3",
   "version": "3.10.0"
  }
 },
 "nbformat": 4,
 "nbformat_minor": 2
}
